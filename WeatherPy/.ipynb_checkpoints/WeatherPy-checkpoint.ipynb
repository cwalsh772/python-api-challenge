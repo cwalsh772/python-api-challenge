{
 "cells": [
  {
   "cell_type": "code",
   "execution_count": null,
   "metadata": {},
   "outputs": [],
   "source": [
    "\n",
    "# Dependencies and Setup\n",
    "import matplotlib.pyplot as plt\n",
    "import pandas as pd\n",
    "import numpy as np\n",
    "import requests\n",
    "import time\n",
    "from scipy.stats import linregress\n",
    "import json\n",
    "\n",
    "# Import API key\n",
    "weather_api_key = \"d0613004fa405a4f72a41754bc37747c\"\n",
    "\n",
    "# Incorporated citipy to determine city based on latitude and longitude\n",
    "from citipy import citipy\n",
    "\n",
    "# Output File (CSV)\n",
    "output_data_file = \"output_data/cities.csv\"\n",
    "\n",
    "# Range of latitudes and longitudes\n",
    "lat_range = (-90, 90)\n",
    "lng_range = (-180, 180)"
   ]
  },
  {
   "cell_type": "code",
   "execution_count": null,
   "metadata": {},
   "outputs": [],
   "source": [
    "\n",
    "# List for holding lat_lngs and cities\n",
    "lat_lngs = []\n",
    "cities = []\n",
    "\n",
    "# Create a set of random lat and lng combinations\n",
    "lats = np.random.uniform(low=-90.000, high=90.000, size=1500)\n",
    "lngs = np.random.uniform(low=-180.000, high=180.000, size=1500)\n",
    "lat_lngs = zip(lats, lngs)\n",
    "\n",
    "# Identify nearest city for each lat, lng combination\n",
    "for lat_lng in lat_lngs:\n",
    "    city = citipy.nearest_city(lat_lng[0], lat_lng[1]).city_name\n",
    "    \n",
    "    # If the city is unique, then add it to a our cities list\n",
    "    if city not in cities:\n",
    "        cities.append(city)\n",
    "\n",
    "# Print the city count to confirm sufficient count\n",
    "len(cities)"
   ]
  },
  {
   "cell_type": "code",
   "execution_count": null,
   "metadata": {},
   "outputs": [],
   "source": [
    "url = \"http://api.openweathermap.org/data/2.5/forecast?id=524901&APPID=\"\n",
    "target_url = url + weather_api_key\n",
    "target_url"
   ]
  },
  {
   "cell_type": "code",
   "execution_count": null,
   "metadata": {},
   "outputs": [],
   "source": [
    "weather_response = requests.get(target_url)\n",
    "weather_json = weather_response.json()\n",
    "#print(json.dumps(weather_json, indent=4, sort_keys=True))"
   ]
  },
  {
   "cell_type": "code",
   "execution_count": null,
   "metadata": {},
   "outputs": [],
   "source": [
    "#print(weather_json['city']['name'])\n",
    "print(weather_json['city']['name'])"
   ]
  },
  {
   "cell_type": "code",
   "execution_count": null,
   "metadata": {},
   "outputs": [],
   "source": [
    "\n",
    "# set up lists to hold reponse info\n",
    "cityname = []\n",
    "cloudiness = []\n",
    "country = []\n",
    "date = []\n",
    "humidity = []\n",
    "lat = []\n",
    "lng = []\n",
    "max_temp = []\n",
    "wind_speed = []\n",
    "count = 0\n",
    "\n",
    "#  response = requests.get(query_url + city).json()\n",
    "    \n",
    "# Loop through the list of cities and perform a request for data on each\n",
    "\n",
    "for city in cities:\n",
    "    weather_response = requests.get(target_url + \"&q=\" + city + \"&units=Imperial\")\n",
    "    weather_json = weather_response.json()\n",
    "    try:\n",
    "        cityname.append(weather_json['city']['name'])\n",
    "        cloudiness.append(weather_json['list'][0]['clouds']['all'])\n",
    "        country.append(weather_json['city']['country'])\n",
    "        date.append(weather_json['list'][0]['dt'])\n",
    "        humidity.append(weather_json['list'][0]['main']['humidity'])\n",
    "        lat.append(weather_json['city']['coord']['lat'])\n",
    "        lng.append(weather_json['city']['coord']['lon'])\n",
    "        max_temp.append(weather_json['list'][0]['main']['temp_max'])\n",
    "        wind_speed.append(weather_json['list'][0]['wind']['speed'])\n",
    "        count = count + 1\n",
    "        print(f\"Processing record {count} of Set 1 | {city}\")\n",
    "    except:\n",
    "        print(\"Record not found\") \n",
    "        pass\n"
   ]
  },
  {
   "cell_type": "code",
   "execution_count": null,
   "metadata": {},
   "outputs": [],
   "source": [
    "# Convert array of JSONs into Pandas DataFrame\n",
    "\n",
    "weather_dict = {\"City\": cityname,\"Latitude\": lat, \"Longitude\":lng,\n",
    "                \"Max Temp\":max_temp,\"Humidity\":humidity,\"Cloudiness\":cloudiness,\n",
    "                \"Wind Speed\":wind_speed,\"Country\":country, \"Date\":date}\n",
    "weather_data = pd.DataFrame(weather_dict)\n",
    "weather_data.head()"
   ]
  },
  {
   "cell_type": "code",
   "execution_count": null,
   "metadata": {},
   "outputs": [],
   "source": [
    "# Export the City_Data into a csv\n",
    "weather_data.to_csv(r'output_data\\my_weather_data.csv')"
   ]
  },
  {
   "cell_type": "code",
   "execution_count": null,
   "metadata": {},
   "outputs": [],
   "source": [
    "# Scatter plot for latitude vs. temperature\n",
    "scatlat = weather_data[\"Latitude\"]\n",
    "scattemp = weather_data[\"Max Temp\"]\n",
    "\n",
    "plt.scatter(scatlat,scattemp)\n",
    "plt.title('City Latitude vs. Max Temperature')\n",
    "plt.xlabel('Latitude')\n",
    "plt.ylabel('Max Temperature (F)')\n",
    "plt.savefig('output_data/scatplotlatitudemaxtemp')\n",
    "plt.show()\n",
    "print(\"This scatter plot shows how temperature varies based on Latitude.\")\n",
    "\n",
    "# Scatter plot for latitude vs. humidity\n",
    "scathumid = weather_data[\"Humidity\"]\n",
    "\n",
    "plt.scatter(scatlat,scathumid)\n",
    "plt.title('City Latitude vs. Humidity')\n",
    "plt.xlabel('Latitude')\n",
    "plt.ylabel('Humidity (%)')\n",
    "plt.savefig('output_data/scatplotlatitudehumidity')\n",
    "plt.show()\n",
    "print(\"This scatter plot shows how temperature correlates with humidity.\")\n",
    "\n",
    "# Scatter plot for latitude vs. cloudiness\n",
    "scatcloud = weather_data[\"Cloudiness\"]\n",
    "\n",
    "plt.scatter(scatlat,scatcloud)\n",
    "plt.title('City Latitude vs. Cloudiness')\n",
    "plt.xlabel('Latitude')\n",
    "plt.ylabel('Cloudiness (%)')\n",
    "plt.savefig('output_data/scatplotlatitudecloudiness')\n",
    "plt.show()\n",
    "print(\"This scatter plot analyzes if any correlation exists between cloudiness and    city latitude.\")\n",
    "\n",
    "# Scatter plot for latitude vs. wind speed\n",
    "scatwind = weather_data[\"Wind Speed\"]\n",
    "\n",
    "plt.scatter(scatlat,scatwind)\n",
    "plt.title('City Latitude vs. Wind Speed')\n",
    "plt.xlabel('Latitude')\n",
    "plt.ylabel('Wind Speed (mph)')\n",
    "plt.savefig('output_data/scatplotlatitudewindspeed')\n",
    "plt.show()"
   ]
  },
  {
   "cell_type": "code",
   "execution_count": null,
   "metadata": {},
   "outputs": [],
   "source": [
    "def plot_linear_regression(x_values, y_values, title, text_coordinates):\n",
    "    (slope, intercept, rvalue, pvalue, stderr) = linregress(x_values, y_values)\n",
    "    regress_values = x_values * slope + intercept\n",
    "    line_eq = \"y = \" + str(round(slope,2)) + \"x + \" + str(round(intercept,2))\n",
    "    \n",
    "    plt.scatter(x_values,y_values)\n",
    "    plt.plot(x_values,regress_values,\"r-\")\n",
    "    plt.annotate(line_eq,text_coordinates,fontsize=14,color=\"red\")\n",
    "    plt.xlabel(\"Latitude\")\n",
    "    plt.ylabel(title)\n",
    "    print(f\"The r-squared is: {rvalue}\")\n",
    "    plt.show()"
   ]
  },
  {
   "cell_type": "code",
   "execution_count": null,
   "metadata": {},
   "outputs": [],
   "source": [
    "northlat_df = weather_data.loc[weather_data[\"Latitude\"] >= 0,:]\n",
    "southlat_df = weather_data.loc[weather_data[\"Latitude\"] < 0,:]\n"
   ]
  },
  {
   "cell_type": "markdown",
   "metadata": {},
   "source": [
    "# Temperature (F) vs. Latitude"
   ]
  },
  {
   "cell_type": "code",
   "execution_count": null,
   "metadata": {},
   "outputs": [],
   "source": [
    "x_values = northlat_df[\"Latitude\"]\n",
    "y_values = northlat_df[\"Max Temp\"]\n",
    "plt.title(\"Northern Hemisphere - Temperature (F) vs Latitude\")\n",
    "plot_linear_regression(x_values,y_values,'Max Temp',(6,30))\n",
    "\n",
    "plt.savefig('output_data/Northern Hemisphere - Temperature (F) vs Latitude')\n",
    "\n",
    "x_values = southlat_df[\"Latitude\"]\n",
    "y_values = southlat_df[\"Max Temp\"]\n",
    "plt.title(\"Southern Hemisphere - Temperature (F) vs Latitude\")\n",
    "plot_linear_regression(x_values,y_values,'Max Temp',(6,30))\n",
    "\n",
    "plt.savefig('output_data/Southern Hemisphere - Temperature (F) vs Latitude')"
   ]
  },
  {
   "cell_type": "markdown",
   "metadata": {},
   "source": [
    "# Humidity (%) vs. Latitude"
   ]
  },
  {
   "cell_type": "code",
   "execution_count": null,
   "metadata": {},
   "outputs": [],
   "source": [
    "x_values = northlat_df[\"Latitude\"]\n",
    "y_values = northlat_df[\"Humidity\"]\n",
    "plt.title(\"Northern Hemisphere - Humidity (%) vs Latitude\")\n",
    "plot_linear_regression(x_values,y_values,'Humidity',(6,30))\n",
    "\n",
    "plt.savefig(\"output_data/Northern Hemisphere - Humidity (%) vs Latitude\")\n",
    "\n",
    "x_values = southlat_df[\"Latitude\"]\n",
    "y_values = southlat_df[\"Humidity\"]\n",
    "plt.title(\"Southern Hemisphere - Humidity (%) vs Latitude\")\n",
    "plot_linear_regression(x_values,y_values,'Humidity',(6,30))\n",
    "\n",
    "plt.savefig('output_data/Southern Hemisphere - Humidity (%) vs Latitude')"
   ]
  },
  {
   "cell_type": "markdown",
   "metadata": {},
   "source": [
    "# Cloudiness (%) vs. Latitude"
   ]
  },
  {
   "cell_type": "code",
   "execution_count": null,
   "metadata": {},
   "outputs": [],
   "source": [
    "x_values = northlat_df[\"Latitude\"]\n",
    "y_values = northlat_df[\"Cloudiness\"]\n",
    "plt.title(\"Northern Hemisphere - Cloudiness (%) vs Latitude\")\n",
    "plot_linear_regression(x_values,y_values,'Cloudiness',(6,30))\n",
    "\n",
    "plt.savefig(\"output_data/Northern Hemisphere - Cloudiness (%) vs Latitude\")\n",
    "\n",
    "x_values = southlat_df[\"Latitude\"]\n",
    "y_values = southlat_df[\"Cloudiness\"]\n",
    "plt.title(\"Southern Hemisphere - Cloudiness (%) vs Latitude\")\n",
    "plot_linear_regression(x_values,y_values,'Cloudiness',(6,30))\n",
    "\n",
    "plt.savefig(\"output_data/Southern Hemisphere - Cloudiness (%) vs Latitude\")"
   ]
  },
  {
   "cell_type": "markdown",
   "metadata": {},
   "source": [
    "# Wind Speed (mph) vs. Latitude"
   ]
  },
  {
   "cell_type": "code",
   "execution_count": null,
   "metadata": {},
   "outputs": [],
   "source": [
    "x_values = northlat_df[\"Latitude\"]\n",
    "y_values = northlat_df[\"Wind Speed\"]\n",
    "plt.title(\"Northern Hemisphere - Wind Speed (mph) vs Latitude\")\n",
    "plot_linear_regression(x_values,y_values,'Wind Speed',(6,30))\n",
    "\n",
    "plt.savefig(\"output_data/Northern Hemisphere - Wind Speed (mph) vs Latitude\")\n",
    "\n",
    "x_values = southlat_df[\"Latitude\"]\n",
    "y_values = southlat_df[\"Wind Speed\"]\n",
    "plt.title(\"Southern Hemisphere - Wind Speed (mph) vs Latitude\")\n",
    "plot_linear_regression(x_values,y_values,'Wind Speed',(6,30))\n",
    "\n",
    "plt.savefig(\"output_data/Southern Hemisphere - Wind Speed (mph) vs Latitude\")\n"
   ]
  },
  {
   "cell_type": "code",
   "execution_count": null,
   "metadata": {},
   "outputs": [],
   "source": []
  }
 ],
 "metadata": {
  "kernelspec": {
   "display_name": "Python 3",
   "language": "python",
   "name": "python3"
  },
  "language_info": {
   "codemirror_mode": {
    "name": "ipython",
    "version": 3
   },
   "file_extension": ".py",
   "mimetype": "text/x-python",
   "name": "python",
   "nbconvert_exporter": "python",
   "pygments_lexer": "ipython3",
   "version": "3.7.6"
  }
 },
 "nbformat": 4,
 "nbformat_minor": 4
}
